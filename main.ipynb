{
 "cells": [
  {
   "cell_type": "code",
   "execution_count": 12,
   "id": "fd9055d8-a4de-49ce-8403-d7008cf2f463",
   "metadata": {},
   "outputs": [
    {
     "name": "stdout",
     "output_type": "stream",
     "text": [
      "Seconds per hour: 3600\n"
     ]
    }
   ],
   "source": [
    "# 3.1 and 3.2\n",
    "seconds_per_hour = 60 * 60\n",
    "print(\"Seconds per hour:\", seconds_per_hour)"
   ]
  },
  {
   "cell_type": "code",
   "execution_count": 11,
   "id": "7c98afe8-372b-4c05-819c-4dad137952c0",
   "metadata": {},
   "outputs": [
    {
     "name": "stdout",
     "output_type": "stream",
     "text": [
      "Seconds per day: 86400\n"
     ]
    }
   ],
   "source": [
    "# 3.3 and 3.4\n",
    "seconds_per_day = seconds_per_hour * 24\n",
    "print(\"Seconds per day:\", seconds_per_day)"
   ]
  },
  {
   "cell_type": "code",
   "execution_count": 15,
   "id": "90dfbaa7-1cc9-45c2-bae8-119bb68110ac",
   "metadata": {},
   "outputs": [
    {
     "name": "stdout",
     "output_type": "stream",
     "text": [
      "Float Division: 24.0\n"
     ]
    }
   ],
   "source": [
    "# 3.5\n",
    "print(\"Float Division:\", seconds_per_day / seconds_per_hour)"
   ]
  },
  {
   "cell_type": "code",
   "execution_count": 16,
   "id": "d97b9d6f-3f40-42cf-acf4-970675bb44d5",
   "metadata": {},
   "outputs": [
    {
     "name": "stdout",
     "output_type": "stream",
     "text": [
      "Integer Division: 24\n"
     ]
    }
   ],
   "source": [
    "# 3.6\n",
    "print(\"Integer Division:\", seconds_per_day // seconds_per_hour)\n",
    "\n"
   ]
  },
  {
   "cell_type": "markdown",
   "id": "09935086-5c66-42fc-99d7-1f9f51b8059a",
   "metadata": {},
   "source": [
    "# Did this number agree with the floating-point value from the previous question, aside from the final .0?\n",
    "<p>Yes 24.0 is equal to 24. Both float and integer division in this case give the same answer,\n",
    "apart from the .0 due to float division giving the answer in a float value.</p>"
   ]
  }
 ],
 "metadata": {
  "kernelspec": {
   "display_name": "Python 3 (ipykernel)",
   "language": "python",
   "name": "python3"
  },
  "language_info": {
   "codemirror_mode": {
    "name": "ipython",
    "version": 3
   },
   "file_extension": ".py",
   "mimetype": "text/x-python",
   "name": "python",
   "nbconvert_exporter": "python",
   "pygments_lexer": "ipython3",
   "version": "3.12.4"
  }
 },
 "nbformat": 4,
 "nbformat_minor": 5
}
